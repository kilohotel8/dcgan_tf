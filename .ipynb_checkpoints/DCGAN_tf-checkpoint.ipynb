{
 "cells": [
  {
   "cell_type": "markdown",
   "metadata": {
    "slideshow": {
     "slide_type": "slide"
    }
   },
   "source": [
    "# DCGAN by TENSORFLOW\n",
    "\n",
    "                                                                by KH(2018.11.17)"
   ]
  },
  {
   "cell_type": "code",
   "execution_count": null,
   "metadata": {},
   "outputs": [],
   "source": [
    "## importing\n",
    "import tensorflow as tf\n",
    "from tensorflow.examples.tutorials.mnist import input_data\n",
    "import matplotlib.pyplot as plt"
   ]
  },
  {
   "cell_type": "code",
   "execution_count": null,
   "metadata": {},
   "outputs": [],
   "source": [
    "## setting parameter\n",
    "epoch = 3\n",
    "batch_size = 128\n",
    "noise_dimension = 96\n",
    "learning_rate = 0.001"
   ]
  },
  {
   "cell_type": "code",
   "execution_count": null,
   "metadata": {},
   "outputs": [],
   "source": [
    "## load mnist\n",
    "mnist = input_data.read_data_sets(\"MNIST_data/\")"
   ]
  },
  {
   "cell_type": "code",
   "execution_count": null,
   "metadata": {},
   "outputs": [],
   "source": [
    "def discriminator(x):\n",
    "    with tf.variable_scope(\"discriminator\"):\n",
    "        x = tf.reshape(x, [-1,28,28,1])\n",
    "        conv1_d = tf.layers.conv2d(x,filters=32, kernel_size=(5,5), activation=tf.nn.leaky_relu)\n",
    "        conv1_p_d = tf.nn.max_pool(conv1_d, ksize=(1,2,2,1), strides=(1,2,2,1), padding='VALID')\n",
    "        conv2_d = tf.layers.conv2d(conv1_p_d,filters=64, kernel_size=(5,5), activation=tf.nn.leaky_relu)\n",
    "        conv2_p_d = tf.nn.max_pool(conv2_d, ksize=(1,2,2,1), strides=(1,2,2,1), padding='VALID')\n",
    "        f_d = tf.layers.flatten(conv2_p_d)\n",
    "        fc_d = tf.layers.dense(f_d,4*4*64, activation=tf.nn.leaky_relu)\n",
    "        logits = tf.layers.dense(fc_d,1)\n",
    "        return logits"
   ]
  },
  {
   "cell_type": "code",
   "execution_count": null,
   "metadata": {},
   "outputs": [],
   "source": [
    "def generator(z):\n",
    "    with tf.variable_scope(\"generator\"):\n",
    "        l1_g = tf.layers.dense(z, 1024, activation=tf.nn.leaky_relu)\n",
    "        l1_n_g = tf.layers.batch_normalization(l1_g, training=True)\n",
    "        l2_g = tf.layers.dense(l1_n_g,7*7*128, activation=tf.nn.leaky_relu)\n",
    "        l2_n_g = tf.layers.batch_normalization(l2_g, training=True)\n",
    "        l2_n_g = tf.reshape(l2_n_g,[-1,7,7,128])\n",
    "        conv1_g = tf.layers.conv2d_transpose(l2_n_g, filters=64, kernel_size=(4,4), strides=2, padding='SAME', activation=tf.nn.relu)\n",
    "        conv1_n_g = tf.layers.batch_normalization(conv1_g, training=True)\n",
    "        conv2_g = tf.layers.conv2d_transpose(conv1_n_g, filters=1, kernel_size=(4,4), strides=2, padding='SAME')\n",
    "        img = tf.nn.tanh(conv2_g)\n",
    "        return img"
   ]
  },
  {
   "cell_type": "code",
   "execution_count": null,
   "metadata": {},
   "outputs": [],
   "source": [
    "def gan_loss(logits_real, logits_fake):\n",
    "    D_loss = tf.reduce_mean(tf.nn.sigmoid_cross_entropy_with_logits(labels=tf.ones_like(logits_real), logits=logits_real))+\\\n",
    "                            tf.reduce_mean(tf.nn.sigmoid_cross_entropy_with_logits(labels=tf.zeros_like(logits_fake), logits=logits_fake))\n",
    "    G_loss = tf.reduce_mean(tf.nn.sigmoid_cross_entropy_with_logits(labels=tf.ones_like(logits_fake), logits=logits_fake))\n",
    "    \n",
    "    return D_loss, G_loss"
   ]
  },
  {
   "cell_type": "code",
   "execution_count": null,
   "metadata": {},
   "outputs": [],
   "source": [
    "tf.reset_default_graph()\n",
    "X = tf.placeholder(shape=[None, 784], dtype=tf.float32)\n",
    "z = tf.random_normal([batch_size, noise_dimension],-1,1)\n",
    "G = generator(z)\n",
    "\n",
    "with tf.variable_scope(\"\") as scope:\n",
    "    D_X = discriminator(X)\n",
    "    scope.reuse_variables()\n",
    "    D_G = discriminator(G)\n",
    "\n",
    "D_vars = tf.get_collection(tf.GraphKeys.TRAINABLE_VARIABLES, 'discriminator')\n",
    "G_vars = tf.get_collection(tf.GraphKeys.TRAINABLE_VARIABLES, 'generator')    \n",
    "\n",
    "\n",
    "D_opt = tf.train.AdamOptimizer(learning_rate)\n",
    "G_opt = tf.train.AdamOptimizer(learning_rate)\n",
    "\n",
    "D_loss, G_loss = gan_loss(D_X, D_G)\n",
    "\n",
    "D_train_step = D_opt.minimize(D_loss, var_list=D_vars)\n",
    "G_train_step = G_opt.minimize(G_loss, var_list=G_vars)\n",
    "\n"
   ]
  },
  {
   "cell_type": "code",
   "execution_count": null,
   "metadata": {},
   "outputs": [],
   "source": [
    "with tf.Session() as sess:\n",
    "    sess.run(tf.global_variables_initializer())\n",
    "    for e in range(epoch):\n",
    "        total_epoch = int(mnist.train.num_examples / batch_size)\n",
    "        D_loss_total = 0\n",
    "        G_loss_total = 0\n",
    "        for batch in range(total_epoch):\n",
    "            x, _ = mnist.train.next_batch(batch_size)            \n",
    "            _, D_loss_temp = sess.run([D_train_step, D_loss], feed_dict = {X:x})\n",
    "            _, G_loss_temp = sess.run([G_train_step, G_loss])\n",
    "            \n",
    "            D_loss_total += D_loss_temp\n",
    "            G_loss_total += G_loss_temp\n",
    "        \n",
    "        samples = sess.run(G)\n",
    "        print(\"D_loss: \" + str(D_loss_total/total_epoch) + \", G_loss: \" + str(G_loss_total/total_epoch))\n",
    "        for i in range(5):\n",
    "            img = samples[i]\n",
    "            img = img.reshape(28,28)\n",
    "            plt.imshow(img)\n",
    "            plt.show()"
   ]
  },
  {
   "cell_type": "code",
   "execution_count": null,
   "metadata": {},
   "outputs": [],
   "source": []
  }
 ],
 "metadata": {
  "kernelspec": {
   "display_name": "Python 3",
   "language": "python",
   "name": "python3"
  },
  "language_info": {
   "codemirror_mode": {
    "name": "ipython",
    "version": 3
   },
   "file_extension": ".py",
   "mimetype": "text/x-python",
   "name": "python",
   "nbconvert_exporter": "python",
   "pygments_lexer": "ipython3",
   "version": "3.6.4"
  }
 },
 "nbformat": 4,
 "nbformat_minor": 2
}
